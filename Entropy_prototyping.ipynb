{
 "cells": [
  {
   "cell_type": "code",
   "execution_count": 3,
   "id": "driving-flush",
   "metadata": {},
   "outputs": [
    {
     "name": "stderr",
     "output_type": "stream",
     "text": [
      "\u001b[1minput_line_12:2:17: \u001b[0m\u001b[0;1;31merror: \u001b[0m\u001b[1mexpected namespace name\u001b[0m\n",
      "using namespace cv;\n",
      "\u001b[0;1;32m                ^\n",
      "\u001b[0m"
     ]
    },
    {
     "ename": "Interpreter Error",
     "evalue": "",
     "output_type": "error",
     "traceback": [
      "Interpreter Error: "
     ]
    }
   ],
   "source": [
    "#include <iostream>\n",
    "#include <filesystem>\n",
    "#include <sstream>\n",
    "#include <vector>\n",
    "#include <fstream>\n",
    "namespace fs = std::filesystem;\n",
    "using namespace cv;"
   ]
  },
  {
   "cell_type": "code",
   "execution_count": null,
   "id": "dental-survivor",
   "metadata": {},
   "outputs": [],
   "source": []
  }
 ],
 "metadata": {
  "kernelspec": {
   "display_name": "C++17",
   "language": "C++17",
   "name": "xcpp17"
  },
  "language_info": {
   "codemirror_mode": "text/x-c++src",
   "file_extension": ".cpp",
   "mimetype": "text/x-c++src",
   "name": "c++",
   "version": "17"
  }
 },
 "nbformat": 4,
 "nbformat_minor": 5
}
